{
  "nbformat": 4,
  "nbformat_minor": 0,
  "metadata": {
    "colab": {
      "provenance": [],
      "authorship_tag": "ABX9TyNY3UTa2VQ0Vh9cp2XQEG5+",
      "include_colab_link": true
    },
    "kernelspec": {
      "name": "python3",
      "display_name": "Python 3"
    },
    "language_info": {
      "name": "python"
    }
  },
  "cells": [
    {
      "cell_type": "markdown",
      "metadata": {
        "id": "view-in-github",
        "colab_type": "text"
      },
      "source": [
        "<a href=\"https://colab.research.google.com/github/Gethara/ModelTraining/blob/main/fruits_vegitables_recognition.ipynb\" target=\"_parent\"><img src=\"https://colab.research.google.com/assets/colab-badge.svg\" alt=\"Open In Colab\"/></a>"
      ]
    },
    {
      "cell_type": "markdown",
      "source": [
        "**Importing kaggle library.**"
      ],
      "metadata": {
        "id": "oKEtEeEGZ0Bg"
      }
    },
    {
      "cell_type": "code",
      "source": [
        "!pip install kaggle"
      ],
      "metadata": {
        "colab": {
          "base_uri": "https://localhost:8080/"
        },
        "id": "hW6zVLUhZirP",
        "outputId": "eefa0d03-55f0-4c85-ec55-fe0fd7af36ec"
      },
      "execution_count": 19,
      "outputs": [
        {
          "output_type": "stream",
          "name": "stdout",
          "text": [
            "Requirement already satisfied: kaggle in /usr/local/lib/python3.10/dist-packages (1.5.16)\n",
            "Requirement already satisfied: six>=1.10 in /usr/local/lib/python3.10/dist-packages (from kaggle) (1.16.0)\n",
            "Requirement already satisfied: certifi in /usr/local/lib/python3.10/dist-packages (from kaggle) (2024.2.2)\n",
            "Requirement already satisfied: python-dateutil in /usr/local/lib/python3.10/dist-packages (from kaggle) (2.8.2)\n",
            "Requirement already satisfied: requests in /usr/local/lib/python3.10/dist-packages (from kaggle) (2.31.0)\n",
            "Requirement already satisfied: tqdm in /usr/local/lib/python3.10/dist-packages (from kaggle) (4.66.2)\n",
            "Requirement already satisfied: python-slugify in /usr/local/lib/python3.10/dist-packages (from kaggle) (8.0.4)\n",
            "Requirement already satisfied: urllib3 in /usr/local/lib/python3.10/dist-packages (from kaggle) (2.0.7)\n",
            "Requirement already satisfied: bleach in /usr/local/lib/python3.10/dist-packages (from kaggle) (6.1.0)\n",
            "Requirement already satisfied: webencodings in /usr/local/lib/python3.10/dist-packages (from bleach->kaggle) (0.5.1)\n",
            "Requirement already satisfied: text-unidecode>=1.3 in /usr/local/lib/python3.10/dist-packages (from python-slugify->kaggle) (1.3)\n",
            "Requirement already satisfied: charset-normalizer<4,>=2 in /usr/local/lib/python3.10/dist-packages (from requests->kaggle) (3.3.2)\n",
            "Requirement already satisfied: idna<4,>=2.5 in /usr/local/lib/python3.10/dist-packages (from requests->kaggle) (3.6)\n"
          ]
        }
      ]
    },
    {
      "cell_type": "markdown",
      "source": [
        "**Uploading the kaggle.json file**"
      ],
      "metadata": {
        "id": "0VTvMsM3aBci"
      }
    },
    {
      "cell_type": "code",
      "source": [
        "# configuring the path of Kaggle.json file\n",
        "!mkdir -p ~/.kaggle\n",
        "!cp kaggle.json ~/.kaggle/\n",
        "!chmod 600 ~/.kaggle/kaggle.json"
      ],
      "metadata": {
        "id": "EitaG1SiaMnY"
      },
      "execution_count": 20,
      "outputs": []
    },
    {
      "cell_type": "code",
      "source": [
        "#using API to fetch the dataset from Kaggle\n",
        "!kaggle datasets download -d kritikseth/fruit-and-vegetable-image-recognition"
      ],
      "metadata": {
        "colab": {
          "base_uri": "https://localhost:8080/"
        },
        "id": "8X29LcRVdAu_",
        "outputId": "afd82421-e868-496d-8275-3cc23bbd1840"
      },
      "execution_count": 21,
      "outputs": [
        {
          "output_type": "stream",
          "name": "stdout",
          "text": [
            "fruit-and-vegetable-image-recognition.zip: Skipping, found more recently modified local copy (use --force to force download)\n"
          ]
        }
      ]
    },
    {
      "cell_type": "code",
      "source": [
        "# extracting the compessed Dataset\n",
        "from zipfile import ZipFile\n",
        "dataset = '/content/fruit-and-vegetable-image-recognition.zip'\n",
        "\n",
        "with ZipFile(dataset,'r') as zip:\n",
        "  zip.extractall()\n",
        "  print('The dataset is extracted')"
      ],
      "metadata": {
        "colab": {
          "base_uri": "https://localhost:8080/"
        },
        "id": "X-H9v8b5gLcF",
        "outputId": "d753e14b-cbef-4dc1-b3af-158c70d96478"
      },
      "execution_count": 22,
      "outputs": [
        {
          "output_type": "stream",
          "name": "stdout",
          "text": [
            "The dataset is extracted\n"
          ]
        }
      ]
    },
    {
      "cell_type": "markdown",
      "source": [
        "**Importing Libraries**\n"
      ],
      "metadata": {
        "id": "G5MVnt-UoExn"
      }
    },
    {
      "cell_type": "code",
      "source": [
        "import numpy as np\n",
        "import tensorflow as tf\n",
        "import matplotlib.pyplot as plt\n"
      ],
      "metadata": {
        "id": "hhqDI4pSoL34"
      },
      "execution_count": 23,
      "outputs": []
    },
    {
      "cell_type": "markdown",
      "source": [
        "**Data preprocessing**"
      ],
      "metadata": {
        "id": "HE7nHa2ioj2R"
      }
    },
    {
      "cell_type": "markdown",
      "source": [],
      "metadata": {
        "id": "_OAMMXqKea_z"
      }
    },
    {
      "cell_type": "markdown",
      "source": [
        "Training image pre processing"
      ],
      "metadata": {
        "id": "w9ilWYgzdedF"
      }
    },
    {
      "cell_type": "code",
      "source": [
        "training_set =tf.keras.utils.image_dataset_from_directory(\n",
        "    directory=\"/content/train\",\n",
        "    labels=\"inferred\",\n",
        "    label_mode=\"categorical\",\n",
        "    class_names=None,\n",
        "    color_mode=\"rgb\",\n",
        "    batch_size=32,\n",
        "    image_size=(64, 64),\n",
        "    shuffle=True,\n",
        "    seed=None,\n",
        "    validation_split=None,\n",
        "    subset=None,\n",
        "    interpolation=\"bilinear\",\n",
        "    follow_links=False,\n",
        "    crop_to_aspect_ratio=False,\n",
        "    )\n"
      ],
      "metadata": {
        "id": "rnCwCYXkooS-",
        "colab": {
          "base_uri": "https://localhost:8080/"
        },
        "outputId": "b3181014-f4b2-41fd-8a1e-fb13d4e16672"
      },
      "execution_count": 24,
      "outputs": [
        {
          "output_type": "stream",
          "name": "stdout",
          "text": [
            "Found 3115 files belonging to 36 classes.\n"
          ]
        }
      ]
    },
    {
      "cell_type": "markdown",
      "source": [
        "validation image processing"
      ],
      "metadata": {
        "id": "zXi063zIhwBd"
      }
    },
    {
      "cell_type": "code",
      "source": [
        "validation_set =tf.keras.utils.image_dataset_from_directory(\n",
        "    directory=\"/content/validation\",\n",
        "    labels=\"inferred\",\n",
        "    label_mode=\"categorical\",\n",
        "    class_names=None,\n",
        "    color_mode=\"rgb\",\n",
        "    batch_size=32,\n",
        "    image_size=(64, 64),\n",
        "    shuffle=True,\n",
        "    seed=None,\n",
        "    validation_split=None,\n",
        "    subset=None,\n",
        "    interpolation=\"bilinear\",\n",
        "    follow_links=False,\n",
        "    crop_to_aspect_ratio=False,\n",
        "    )\n",
        "\n"
      ],
      "metadata": {
        "colab": {
          "base_uri": "https://localhost:8080/"
        },
        "id": "4SQh_JWmgqtw",
        "outputId": "72b0142f-2b70-413f-94ba-30b6d48564b3"
      },
      "execution_count": 25,
      "outputs": [
        {
          "output_type": "stream",
          "name": "stdout",
          "text": [
            "Found 351 files belonging to 36 classes.\n"
          ]
        }
      ]
    },
    {
      "cell_type": "markdown",
      "source": [
        "Building Model"
      ],
      "metadata": {
        "id": "nVvNxm1NFuhk"
      }
    },
    {
      "cell_type": "code",
      "source": [
        "cnn = tf.keras.models.Sequential()"
      ],
      "metadata": {
        "id": "fNYX1EIiiasC"
      },
      "execution_count": 26,
      "outputs": []
    },
    {
      "cell_type": "markdown",
      "source": [
        "Building convolution layer"
      ],
      "metadata": {
        "id": "1c1bF5AaGYmD"
      }
    },
    {
      "cell_type": "code",
      "source": [
        "cnn.add(tf.keras.layers.Conv2D(filters = 64, kernel_size=3 , activation =\"relu\", input_shape= [64,64,3]))\n",
        "cnn.add(tf.keras.layers.MaxPool2D(pool_size =2,strides=2))"
      ],
      "metadata": {
        "id": "51YYTbM8GdDO"
      },
      "execution_count": 27,
      "outputs": []
    },
    {
      "cell_type": "code",
      "source": [
        "cnn.add(tf.keras.layers.Conv2D(filters = 64, kernel_size=3 , activation =\"relu\"))\n",
        "cnn.add(tf.keras.layers.MaxPool2D(pool_size =2,strides=2))"
      ],
      "metadata": {
        "id": "d7nW8MGGHrSR"
      },
      "execution_count": 28,
      "outputs": []
    },
    {
      "cell_type": "code",
      "source": [
        "cnn.add(tf.keras.layers.Dropout(0.5))# to avoid overfitting"
      ],
      "metadata": {
        "id": "uFwcpRpiJOLa"
      },
      "execution_count": 29,
      "outputs": []
    },
    {
      "cell_type": "code",
      "source": [
        "cnn.add(tf.keras.layers.Flatten())"
      ],
      "metadata": {
        "id": "xqmg2dNXJgCd"
      },
      "execution_count": 30,
      "outputs": []
    },
    {
      "cell_type": "code",
      "source": [
        "cnn.add(tf.keras.layers.Dense(units = 128, activation =\"relu\"))"
      ],
      "metadata": {
        "id": "BoC1ICqYJvyW"
      },
      "execution_count": 31,
      "outputs": []
    },
    {
      "cell_type": "code",
      "source": [
        "#Output Layer\n",
        "cnn.add(tf.keras.layers.Dense(units=36,activation=\"softmax\"))"
      ],
      "metadata": {
        "id": "SU5TEN7VKFV6"
      },
      "execution_count": 32,
      "outputs": []
    },
    {
      "cell_type": "markdown",
      "source": [
        "Compiling and training phase"
      ],
      "metadata": {
        "id": "FO57Gt93LCTy"
      }
    },
    {
      "cell_type": "code",
      "source": [
        "cnn.compile(optimizer=\"rmsprop\", loss= \"categorical_crossentropy\", metrics =[\"accuracy\"])"
      ],
      "metadata": {
        "id": "5zL6nFRRK9E8"
      },
      "execution_count": 33,
      "outputs": []
    },
    {
      "cell_type": "code",
      "source": [
        "training_history = cnn.fit(training_set,validation_data =validation_set,epochs =30)"
      ],
      "metadata": {
        "colab": {
          "base_uri": "https://localhost:8080/"
        },
        "id": "senklBuBLetf",
        "outputId": "80bd2089-89e8-4076-a290-9e3bc9a8fe13"
      },
      "execution_count": 35,
      "outputs": [
        {
          "output_type": "stream",
          "name": "stdout",
          "text": [
            "Epoch 1/30\n",
            "98/98 [==============================] - 117s 1s/step - loss: 9.2772 - accuracy: 0.0469 - val_loss: 3.4704 - val_accuracy: 0.0969\n",
            "Epoch 2/30\n",
            "98/98 [==============================] - 112s 1s/step - loss: 3.9143 - accuracy: 0.0677 - val_loss: 3.5443 - val_accuracy: 0.1311\n",
            "Epoch 3/30\n",
            "98/98 [==============================] - 104s 1s/step - loss: 3.7440 - accuracy: 0.1146 - val_loss: 3.0202 - val_accuracy: 0.2564\n",
            "Epoch 4/30\n",
            "98/98 [==============================] - 106s 1s/step - loss: 3.3588 - accuracy: 0.1538 - val_loss: 2.6747 - val_accuracy: 0.3134\n",
            "Epoch 5/30\n",
            "98/98 [==============================] - 104s 994ms/step - loss: 3.8598 - accuracy: 0.2138 - val_loss: 9.7304 - val_accuracy: 0.1197\n",
            "Epoch 6/30\n",
            "98/98 [==============================] - 112s 1s/step - loss: 3.1604 - accuracy: 0.2636 - val_loss: 2.1562 - val_accuracy: 0.4843\n",
            "Epoch 7/30\n",
            "98/98 [==============================] - 104s 1s/step - loss: 2.7366 - accuracy: 0.3422 - val_loss: 2.0054 - val_accuracy: 0.5613\n",
            "Epoch 8/30\n",
            "98/98 [==============================] - 103s 1s/step - loss: 2.5596 - accuracy: 0.4032 - val_loss: 1.8813 - val_accuracy: 0.5926\n",
            "Epoch 9/30\n",
            "98/98 [==============================] - 111s 1s/step - loss: 2.3190 - accuracy: 0.4610 - val_loss: 1.6235 - val_accuracy: 0.6638\n",
            "Epoch 10/30\n",
            "98/98 [==============================] - 116s 1s/step - loss: 2.3068 - accuracy: 0.4944 - val_loss: 1.5490 - val_accuracy: 0.7151\n",
            "Epoch 11/30\n",
            "98/98 [==============================] - 114s 1s/step - loss: 2.0291 - accuracy: 0.5390 - val_loss: 1.8066 - val_accuracy: 0.6781\n",
            "Epoch 12/30\n",
            "98/98 [==============================] - 113s 1s/step - loss: 1.9180 - accuracy: 0.5685 - val_loss: 3.6804 - val_accuracy: 0.5356\n",
            "Epoch 13/30\n",
            "98/98 [==============================] - 116s 1s/step - loss: 1.7488 - accuracy: 0.6080 - val_loss: 1.7393 - val_accuracy: 0.7550\n",
            "Epoch 14/30\n",
            "98/98 [==============================] - 113s 1s/step - loss: 1.5330 - accuracy: 0.6327 - val_loss: 1.5539 - val_accuracy: 0.7977\n",
            "Epoch 15/30\n",
            "98/98 [==============================] - 113s 1s/step - loss: 1.6060 - accuracy: 0.6706 - val_loss: 1.2850 - val_accuracy: 0.8319\n",
            "Epoch 16/30\n",
            "98/98 [==============================] - 114s 1s/step - loss: 1.4260 - accuracy: 0.6825 - val_loss: 1.0897 - val_accuracy: 0.8205\n",
            "Epoch 17/30\n",
            "98/98 [==============================] - 103s 991ms/step - loss: 1.3293 - accuracy: 0.7069 - val_loss: 1.4607 - val_accuracy: 0.8205\n",
            "Epoch 18/30\n",
            "98/98 [==============================] - 112s 1s/step - loss: 1.2833 - accuracy: 0.7213 - val_loss: 1.1550 - val_accuracy: 0.8490\n",
            "Epoch 19/30\n",
            "98/98 [==============================] - 104s 1s/step - loss: 1.2683 - accuracy: 0.7509 - val_loss: 1.3655 - val_accuracy: 0.8462\n",
            "Epoch 20/30\n",
            "98/98 [==============================] - 113s 1s/step - loss: 1.3424 - accuracy: 0.7518 - val_loss: 1.7731 - val_accuracy: 0.7977\n",
            "Epoch 21/30\n",
            "98/98 [==============================] - 103s 992ms/step - loss: 1.1422 - accuracy: 0.7714 - val_loss: 1.3027 - val_accuracy: 0.8946\n",
            "Epoch 22/30\n",
            "98/98 [==============================] - 111s 1s/step - loss: 1.2323 - accuracy: 0.7772 - val_loss: 3.2123 - val_accuracy: 0.7322\n",
            "Epoch 23/30\n",
            "98/98 [==============================] - 109s 1s/step - loss: 1.1099 - accuracy: 0.7872 - val_loss: 1.6421 - val_accuracy: 0.8632\n",
            "Epoch 24/30\n",
            "98/98 [==============================] - 114s 1s/step - loss: 1.0202 - accuracy: 0.7952 - val_loss: 1.2453 - val_accuracy: 0.8803\n",
            "Epoch 25/30\n",
            "98/98 [==============================] - 113s 1s/step - loss: 1.0123 - accuracy: 0.8045 - val_loss: 1.4373 - val_accuracy: 0.8604\n",
            "Epoch 26/30\n",
            "98/98 [==============================] - 113s 1s/step - loss: 1.0291 - accuracy: 0.8151 - val_loss: 1.4080 - val_accuracy: 0.8889\n",
            "Epoch 27/30\n",
            "98/98 [==============================] - 103s 987ms/step - loss: 1.1111 - accuracy: 0.8045 - val_loss: 3.6124 - val_accuracy: 0.7350\n",
            "Epoch 28/30\n",
            "98/98 [==============================] - 103s 994ms/step - loss: 1.0207 - accuracy: 0.8148 - val_loss: 1.4557 - val_accuracy: 0.9259\n",
            "Epoch 29/30\n",
            "98/98 [==============================] - 113s 1s/step - loss: 1.0560 - accuracy: 0.8225 - val_loss: 1.3291 - val_accuracy: 0.9145\n",
            "Epoch 30/30\n",
            "98/98 [==============================] - 112s 1s/step - loss: 1.0273 - accuracy: 0.8343 - val_loss: 1.5682 - val_accuracy: 0.8860\n"
          ]
        }
      ]
    },
    {
      "cell_type": "code",
      "source": [
        "cnn.save(\"trained_model.h5\")"
      ],
      "metadata": {
        "colab": {
          "base_uri": "https://localhost:8080/"
        },
        "id": "UfRS_3BNNCkX",
        "outputId": "c6ec9b0b-9976-43d0-9867-cc614f01e18a"
      },
      "execution_count": 36,
      "outputs": [
        {
          "output_type": "stream",
          "name": "stderr",
          "text": [
            "/usr/local/lib/python3.10/dist-packages/keras/src/engine/training.py:3103: UserWarning: You are saving your model as an HDF5 file via `model.save()`. This file format is considered legacy. We recommend using instead the native Keras format, e.g. `model.save('my_model.keras')`.\n",
            "  saving_api.save_model(\n"
          ]
        }
      ]
    },
    {
      "cell_type": "code",
      "source": [
        "cnn.save(\"trained_model.keras\")"
      ],
      "metadata": {
        "id": "SCb30CXegFfp"
      },
      "execution_count": 37,
      "outputs": []
    },
    {
      "cell_type": "code",
      "source": [
        "#Recording History\n",
        "import json\n",
        "with open(\"training_hist.json\",\"w\") as f:\n",
        "  json.dump(training_history.history,f)"
      ],
      "metadata": {
        "id": "Z11ivV9ggkXT"
      },
      "execution_count": 38,
      "outputs": []
    },
    {
      "cell_type": "code",
      "source": [
        "print(\"Training_history:\" , training_history.history['val_accuracy'][-1])"
      ],
      "metadata": {
        "colab": {
          "base_uri": "https://localhost:8080/"
        },
        "id": "HGFqdtLxhUo4",
        "outputId": "b71a108b-a70f-405d-cd45-4e235cf1a480"
      },
      "execution_count": 41,
      "outputs": [
        {
          "output_type": "stream",
          "name": "stdout",
          "text": [
            "Training_history: 0.8860399127006531\n"
          ]
        }
      ]
    },
    {
      "cell_type": "markdown",
      "source": [
        "Accuracy Visualization"
      ],
      "metadata": {
        "id": "5grD7jRBji9G"
      }
    },
    {
      "cell_type": "markdown",
      "source": [
        "Training Visualization"
      ],
      "metadata": {
        "id": "poH2UElSjjc-"
      }
    },
    {
      "cell_type": "code",
      "source": [
        "epochs = [i for i in range(1,31)]\n",
        "plt.plot(epochs,training_history.history[\"accuracy\"], color=\"red\")"
      ],
      "metadata": {
        "colab": {
          "base_uri": "https://localhost:8080/",
          "height": 447
        },
        "id": "xsdcqVy9iSnU",
        "outputId": "3acc2179-bb12-4021-b774-2fef233b9fd9"
      },
      "execution_count": 44,
      "outputs": [
        {
          "output_type": "execute_result",
          "data": {
            "text/plain": [
              "[<matplotlib.lines.Line2D at 0x796eb41fe800>]"
            ]
          },
          "metadata": {},
          "execution_count": 44
        },
        {
          "output_type": "display_data",
          "data": {
            "text/plain": [
              "<Figure size 640x480 with 1 Axes>"
            ],
            "image/png": "[encoded data removed]"
          },
          "metadata": {}
        }
      ]
    },
    {
      "cell_type": "code",
      "source": [
        "plt.plot(epochs,training_history.history[\"val_accuracy\"], color=\"blue\")\n",
        "plt.xlabel(\"No of Epochs\")\n",
        "plt.ylabel(\"validation Accuracy\")\n",
        "plt.title(\"Visualization of Validation Accuracy\")\n",
        "plt.show()"
      ],
      "metadata": {
        "colab": {
          "base_uri": "https://localhost:8080/",
          "height": 472
        },
        "id": "CYKFYiX6nQXz",
        "outputId": "612c19ed-b186-4f2a-b322-a2dcd528f1b1"
      },
      "execution_count": 47,
      "outputs": [
        {
          "output_type": "display_data",
          "data": {
            "text/plain": [
              "<Figure size 640x480 with 1 Axes>"
            ],
            "image/png": "[encoded data removed]"
          },
          "metadata": {}
        }
      ]
    },
    {
      "cell_type": "code",
      "source": [],
      "metadata": {
        "id": "yl-D4DENosnG"
      },
      "execution_count": null,
      "outputs": []
    }
  ]
}